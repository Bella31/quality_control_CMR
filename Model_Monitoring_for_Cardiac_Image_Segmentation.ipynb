{
  "nbformat": 4,
  "nbformat_minor": 0,
  "metadata": {
    "accelerator": "GPU",
    "colab": {
      "name": "Model_Monitoring_for_Cardiac_Image_Segmentation.ipynb",
      "provenance": [],
      "collapsed_sections": [],
      "toc_visible": true
    },
    "kernelspec": {
      "display_name": "Python 3",
      "language": "python",
      "name": "python3"
    },
    "language_info": {
      "codemirror_mode": {
        "name": "ipython",
        "version": 3
      },
      "file_extension": ".py",
      "mimetype": "text/x-python",
      "name": "python",
      "nbconvert_exporter": "python",
      "pygments_lexer": "ipython3",
      "version": "3.7.6"
    }
  },
  "cells": [
    {
      "cell_type": "markdown",
      "metadata": {
        "id": "qbXF7MRgnfvB"
      },
      "source": [
        "# Model Monitoring for Cardiac Image Segmentation"
      ]
    },
    {
      "cell_type": "markdown",
      "metadata": {
        "id": "FmgzEqqjoHbm"
      },
      "source": [
        "## Import"
      ]
    },
    {
      "cell_type": "markdown",
      "metadata": {
        "id": "yeHnalg36RTw"
      },
      "source": [
        "### Data"
      ]
    },
    {
      "cell_type": "code",
      "metadata": {
        "id": "7NVSWwx2z8oQ",
        "outputId": "e04dd936-946a-47b1-ecbe-ff44fa216bb8",
        "colab": {
          "base_uri": "https://localhost:8080/"
        }
      },
      "source": [
        "!git clone https://github.com/manigalati/quality_control_CMR"
      ],
      "execution_count": 1,
      "outputs": [
        {
          "output_type": "stream",
          "text": [
            "Cloning into 'quality_control_CMR'...\n",
            "remote: Enumerating objects: 12, done.\u001b[K\n",
            "remote: Counting objects: 100% (12/12), done.\u001b[K\n",
            "remote: Compressing objects: 100% (12/12), done.\u001b[K\n",
            "remote: Total 12 (delta 4), reused 0 (delta 0), pack-reused 0\u001b[K\n",
            "Unpacking objects: 100% (12/12), done.\n"
          ],
          "name": "stdout"
        }
      ]
    },
    {
      "cell_type": "code",
      "metadata": {
        "id": "NSzyai-50M8w",
        "outputId": "42d24bdd-999f-424b-a998-73dd4d4a8ae2",
        "colab": {
          "base_uri": "https://localhost:8080/"
        }
      },
      "source": [
        "%cd quality_control_CMR/"
      ],
      "execution_count": 2,
      "outputs": [
        {
          "output_type": "stream",
          "text": [
            "/content/quality_control_CMR\n"
          ],
          "name": "stdout"
        }
      ]
    },
    {
      "cell_type": "code",
      "metadata": {
        "id": "9ej3I0j_z4co",
        "outputId": "40be91a1-4dde-4273-e786-3d8df40f1bf7",
        "colab": {
          "base_uri": "https://localhost:8080/"
        }
      },
      "source": [
        "!mkdir data\n",
        "#training set\n",
        "!python gdrivedl.py https://drive.google.com/open?id=1bxRj0zf-iMooYA4jUZS_zS4VD9NLYxE4 data/\n",
        "#predictions\n",
        "!python gdrivedl.py https://drive.google.com/open?id=1P2kNGllKUKmumaCM2IsqgIgRPAKEXa59 data/"
      ],
      "execution_count": 3,
      "outputs": [
        {
          "output_type": "stream",
          "text": [
            "data/training.zip\n",
            "[==================================================] 1554.02MB/1554.02MB\n",
            "data/predictions.zip\n",
            "[==================================================] 3.75MB/3.75MB\n"
          ],
          "name": "stdout"
        }
      ]
    },
    {
      "cell_type": "code",
      "metadata": {
        "id": "QNhCJqPmoLRD"
      },
      "source": [
        "!unzip -q data/training.zip -d data/"
      ],
      "execution_count": 4,
      "outputs": []
    },
    {
      "cell_type": "code",
      "metadata": {
        "id": "BPjTrxDdMd-I"
      },
      "source": [
        "!unzip -q data/predictions.zip -d data/\n",
        "!mv data/predictions data/testing"
      ],
      "execution_count": 5,
      "outputs": []
    },
    {
      "cell_type": "markdown",
      "metadata": {
        "id": "qztPS1FI7hgU"
      },
      "source": [
        "### Lib"
      ]
    },
    {
      "cell_type": "code",
      "metadata": {
        "id": "z-gNnSWinqHa"
      },
      "source": [
        "import random\n",
        "import numpy as np\n",
        "import torch"
      ],
      "execution_count": 6,
      "outputs": []
    },
    {
      "cell_type": "code",
      "metadata": {
        "id": "IAb1OS-hn7AS"
      },
      "source": [
        "random.seed(0)\n",
        "np.random.seed(0)\n",
        "torch.manual_seed(0)\n",
        "torch.cuda.manual_seed(0)\n",
        "torch.cuda.manual_seed_all(0)\n",
        "torch.backends.cudnn.deterministic = True\n",
        "torch.backends.cudnn.benchmark = False"
      ],
      "execution_count": 7,
      "outputs": []
    },
    {
      "cell_type": "code",
      "metadata": {
        "id": "SsRxAbNP1CjK"
      },
      "source": [
        "from utils import *\n",
        "from CA import *"
      ],
      "execution_count": 8,
      "outputs": []
    },
    {
      "cell_type": "markdown",
      "metadata": {
        "id": "_TwrAQeLyuc5"
      },
      "source": [
        "## Data preparation"
      ]
    },
    {
      "cell_type": "code",
      "metadata": {
        "id": "QTebHd0OqnUh"
      },
      "source": [
        "gt=get_gt(\"data/training/\")"
      ],
      "execution_count": 9,
      "outputs": []
    },
    {
      "cell_type": "code",
      "metadata": {
        "id": "QzM-vmgFuds9"
      },
      "source": [
        "images_gt=np.array([img for _,img in gt[\"ED\"]]+[img for _,img in gt[\"ES\"]])\n",
        "blank=torch.zeros(images_gt.shape[:1]+(len(np.unique(images_gt)),)+images_gt.shape[1:],dtype=int)\n",
        "images_gt=blank.scatter_(1,torch.tensor(np.expand_dims(images_gt,axis=1)),1)"
      ],
      "execution_count": 10,
      "outputs": []
    },
    {
      "cell_type": "code",
      "metadata": {
        "id": "banuFLLnylrl"
      },
      "source": [
        "BATCH_SIZE = 8\n",
        "\n",
        "images_train = images_gt[:int(np.floor(.8*images_gt.shape[0]))]\n",
        "images_val = images_gt[int(np.floor(.8*images_gt.shape[0])):]\n",
        "\n",
        "train_loader = torch.utils.data.DataLoader(\n",
        "    torch.utils.data.TensorDataset(images_train.float()),\n",
        "    batch_size=BATCH_SIZE, shuffle=False, num_workers=0\n",
        ")\n",
        "\n",
        "val_loader = torch.utils.data.DataLoader(\n",
        "    torch.utils.data.TensorDataset(images_val.float()),\n",
        "    batch_size=BATCH_SIZE, shuffle=False, num_workers=0\n",
        ")"
      ],
      "execution_count": 11,
      "outputs": []
    },
    {
      "cell_type": "markdown",
      "metadata": {
        "id": "AnrDu_fF1MiV"
      },
      "source": [
        "## Training"
      ]
    },
    {
      "cell_type": "code",
      "metadata": {
        "id": "vYvFLwc91NY5",
        "outputId": "65bcc171-1e92-46c5-ae84-63c971edf627",
        "colab": {
          "base_uri": "https://localhost:8080/"
        }
      },
      "source": [
        "ae = AE(latent_size=100).to(device)\n",
        "print(ae)"
      ],
      "execution_count": 12,
      "outputs": [
        {
          "output_type": "stream",
          "text": [
            "AE(\n",
            "  (encoder): Sequential(\n",
            "    (0): Conv2d(4, 32, kernel_size=(4, 4), stride=(2, 2), padding=(1, 1))\n",
            "    (1): BatchNorm2d(32, eps=1e-05, momentum=0.1, affine=True, track_running_stats=True)\n",
            "    (2): LeakyReLU(negative_slope=0.2)\n",
            "    (3): Dropout(p=0.5, inplace=False)\n",
            "    (4): Conv2d(32, 32, kernel_size=(4, 4), stride=(2, 2), padding=(1, 1))\n",
            "    (5): BatchNorm2d(32, eps=1e-05, momentum=0.1, affine=True, track_running_stats=True)\n",
            "    (6): LeakyReLU(negative_slope=0.2)\n",
            "    (7): Dropout(p=0.5, inplace=False)\n",
            "    (8): Conv2d(32, 32, kernel_size=(4, 4), stride=(2, 2), padding=(1, 1))\n",
            "    (9): BatchNorm2d(32, eps=1e-05, momentum=0.1, affine=True, track_running_stats=True)\n",
            "    (10): LeakyReLU(negative_slope=0.2)\n",
            "    (11): Dropout(p=0.5, inplace=False)\n",
            "    (12): Conv2d(32, 32, kernel_size=(3, 3), stride=(1, 1), padding=(1, 1))\n",
            "    (13): BatchNorm2d(32, eps=1e-05, momentum=0.1, affine=True, track_running_stats=True)\n",
            "    (14): LeakyReLU(negative_slope=0.2)\n",
            "    (15): Dropout(p=0.5, inplace=False)\n",
            "    (16): Conv2d(32, 64, kernel_size=(4, 4), stride=(2, 2), padding=(1, 1))\n",
            "    (17): BatchNorm2d(64, eps=1e-05, momentum=0.1, affine=True, track_running_stats=True)\n",
            "    (18): LeakyReLU(negative_slope=0.2)\n",
            "    (19): Dropout(p=0.5, inplace=False)\n",
            "    (20): Conv2d(64, 64, kernel_size=(3, 3), stride=(1, 1), padding=(1, 1))\n",
            "    (21): BatchNorm2d(64, eps=1e-05, momentum=0.1, affine=True, track_running_stats=True)\n",
            "    (22): LeakyReLU(negative_slope=0.2)\n",
            "    (23): Dropout(p=0.5, inplace=False)\n",
            "    (24): Conv2d(64, 128, kernel_size=(4, 4), stride=(2, 2), padding=(1, 1))\n",
            "    (25): BatchNorm2d(128, eps=1e-05, momentum=0.1, affine=True, track_running_stats=True)\n",
            "    (26): LeakyReLU(negative_slope=0.2)\n",
            "    (27): Dropout(p=0.5, inplace=False)\n",
            "    (28): Conv2d(128, 64, kernel_size=(3, 3), stride=(1, 1), padding=(1, 1))\n",
            "    (29): BatchNorm2d(64, eps=1e-05, momentum=0.1, affine=True, track_running_stats=True)\n",
            "    (30): LeakyReLU(negative_slope=0.2)\n",
            "    (31): Dropout(p=0.5, inplace=False)\n",
            "    (32): Conv2d(64, 32, kernel_size=(3, 3), stride=(1, 1), padding=(1, 1))\n",
            "    (33): BatchNorm2d(32, eps=1e-05, momentum=0.1, affine=True, track_running_stats=True)\n",
            "    (34): LeakyReLU(negative_slope=0.2)\n",
            "    (35): Dropout(p=0.5, inplace=False)\n",
            "    (36): Conv2d(32, 100, kernel_size=(4, 4), stride=(2, 2), padding=(1, 1))\n",
            "  )\n",
            "  (decoder): Sequential(\n",
            "    (0): ConvTranspose2d(100, 32, kernel_size=(4, 4), stride=(2, 2), padding=(1, 1))\n",
            "    (1): BatchNorm2d(32, eps=1e-05, momentum=0.1, affine=True, track_running_stats=True)\n",
            "    (2): LeakyReLU(negative_slope=0.2)\n",
            "    (3): Dropout(p=0.5, inplace=False)\n",
            "    (4): ConvTranspose2d(32, 64, kernel_size=(3, 3), stride=(1, 1), padding=(1, 1))\n",
            "    (5): BatchNorm2d(64, eps=1e-05, momentum=0.1, affine=True, track_running_stats=True)\n",
            "    (6): LeakyReLU(negative_slope=0.2)\n",
            "    (7): Dropout(p=0.5, inplace=False)\n",
            "    (8): ConvTranspose2d(64, 128, kernel_size=(3, 3), stride=(1, 1), padding=(1, 1))\n",
            "    (9): BatchNorm2d(128, eps=1e-05, momentum=0.1, affine=True, track_running_stats=True)\n",
            "    (10): LeakyReLU(negative_slope=0.2)\n",
            "    (11): Dropout(p=0.5, inplace=False)\n",
            "    (12): ConvTranspose2d(128, 64, kernel_size=(4, 4), stride=(2, 2), padding=(1, 1))\n",
            "    (13): BatchNorm2d(64, eps=1e-05, momentum=0.1, affine=True, track_running_stats=True)\n",
            "    (14): LeakyReLU(negative_slope=0.2)\n",
            "    (15): Dropout(p=0.5, inplace=False)\n",
            "    (16): ConvTranspose2d(64, 64, kernel_size=(3, 3), stride=(1, 1), padding=(1, 1))\n",
            "    (17): BatchNorm2d(64, eps=1e-05, momentum=0.1, affine=True, track_running_stats=True)\n",
            "    (18): LeakyReLU(negative_slope=0.2)\n",
            "    (19): Dropout(p=0.5, inplace=False)\n",
            "    (20): ConvTranspose2d(64, 32, kernel_size=(4, 4), stride=(2, 2), padding=(1, 1))\n",
            "    (21): BatchNorm2d(32, eps=1e-05, momentum=0.1, affine=True, track_running_stats=True)\n",
            "    (22): LeakyReLU(negative_slope=0.2)\n",
            "    (23): Dropout(p=0.5, inplace=False)\n",
            "    (24): ConvTranspose2d(32, 32, kernel_size=(3, 3), stride=(1, 1), padding=(1, 1))\n",
            "    (25): BatchNorm2d(32, eps=1e-05, momentum=0.1, affine=True, track_running_stats=True)\n",
            "    (26): LeakyReLU(negative_slope=0.2)\n",
            "    (27): Dropout(p=0.5, inplace=False)\n",
            "    (28): ConvTranspose2d(32, 32, kernel_size=(4, 4), stride=(2, 2), padding=(1, 1))\n",
            "    (29): BatchNorm2d(32, eps=1e-05, momentum=0.1, affine=True, track_running_stats=True)\n",
            "    (30): LeakyReLU(negative_slope=0.2)\n",
            "    (31): Dropout(p=0.5, inplace=False)\n",
            "    (32): ConvTranspose2d(32, 32, kernel_size=(4, 4), stride=(2, 2), padding=(1, 1))\n",
            "    (33): BatchNorm2d(32, eps=1e-05, momentum=0.1, affine=True, track_running_stats=True)\n",
            "    (34): LeakyReLU(negative_slope=0.2)\n",
            "    (35): Dropout(p=0.5, inplace=False)\n",
            "    (36): ConvTranspose2d(32, 4, kernel_size=(4, 4), stride=(2, 2), padding=(1, 1))\n",
            "    (37): Softmax(dim=1)\n",
            "  )\n",
            ")\n"
          ],
          "name": "stdout"
        }
      ]
    },
    {
      "cell_type": "code",
      "metadata": {
        "id": "QU-ZCq8h1Wpg",
        "outputId": "c2d6b8c8-c614-40e2-bc09-1c7c5f676905",
        "colab": {
          "base_uri": "https://localhost:8080/"
        }
      },
      "source": [
        "ae.train()\n",
        "history = ae.training_routine(500,train_loader,val_loader)"
      ],
      "execution_count": 13,
      "outputs": [
        {
          "output_type": "stream",
          "text": [
            "Epoch [0], GDLoss: 0.0976 MSELoss: 0.0150 Total: 0.1126 \n",
            "Epoch [1], GDLoss: 0.0458 MSELoss: 0.0136 Total: 0.0595 \n",
            "Epoch [2], GDLoss: 0.0394 MSELoss: 0.0135 Total: 0.0530 \n",
            "Epoch [3], GDLoss: 0.0337 MSELoss: 0.0098 Total: 0.0435 \n",
            "Epoch [4], GDLoss: 0.0226 MSELoss: 0.0081 Total: 0.0307 \n",
            "Epoch [5], GDLoss: 0.0219 MSELoss: 0.0091 Total: 0.0310 \n",
            "Epoch [6], GDLoss: 0.0188 MSELoss: 0.0080 Total: 0.0268 \n",
            "Epoch [7], GDLoss: 0.0185 MSELoss: 0.0081 Total: 0.0266 \n",
            "Epoch [8], GDLoss: 0.0181 MSELoss: 0.0081 Total: 0.0262 \n",
            "Epoch [9], GDLoss: 0.0182 MSELoss: 0.0082 Total: 0.0264 \n",
            "Epoch [10], GDLoss: 0.0178 MSELoss: 0.0080 Total: 0.0258 \n",
            "Epoch [11], GDLoss: 0.0175 MSELoss: 0.0079 Total: 0.0254 \n",
            "Epoch [12], GDLoss: 0.0174 MSELoss: 0.0079 Total: 0.0253 \n",
            "Epoch [13], GDLoss: 0.0173 MSELoss: 0.0079 Total: 0.0253 \n",
            "Epoch [14], GDLoss: 0.0173 MSELoss: 0.0079 Total: 0.0252 \n",
            "Epoch [15], GDLoss: 0.0173 MSELoss: 0.0079 Total: 0.0252 \n",
            "Epoch [16], GDLoss: 0.0174 MSELoss: 0.0080 Total: 0.0254 \n",
            "Epoch [17], GDLoss: 0.0172 MSELoss: 0.0080 Total: 0.0251 \n",
            "Epoch [18], GDLoss: 0.0172 MSELoss: 0.0080 Total: 0.0251 \n",
            "Epoch [19], GDLoss: 0.0172 MSELoss: 0.0080 Total: 0.0252 \n",
            "Epoch [20], GDLoss: 0.0171 MSELoss: 0.0079 Total: 0.0251 \n",
            "Epoch [21], GDLoss: 0.0172 MSELoss: 0.0080 Total: 0.0252 \n",
            "Epoch [22], GDLoss: 0.0171 MSELoss: 0.0080 Total: 0.0251 \n",
            "Epoch [23], GDLoss: 0.0172 MSELoss: 0.0080 Total: 0.0252 \n",
            "Epoch [24], GDLoss: 0.0172 MSELoss: 0.0080 Total: 0.0252 \n",
            "Epoch [25], GDLoss: 0.0170 MSELoss: 0.0079 Total: 0.0250 \n",
            "Epoch [26], GDLoss: 0.0170 MSELoss: 0.0079 Total: 0.0250 \n",
            "Epoch [27], GDLoss: 0.0172 MSELoss: 0.0080 Total: 0.0253 \n",
            "Epoch [28], GDLoss: 0.0173 MSELoss: 0.0081 Total: 0.0253 \n",
            "Epoch [29], GDLoss: 0.0173 MSELoss: 0.0081 Total: 0.0254 \n",
            "Epoch [30], GDLoss: 0.0174 MSELoss: 0.0081 Total: 0.0255 \n",
            "Epoch [31], GDLoss: 0.0170 MSELoss: 0.0079 Total: 0.0249 \n",
            "Epoch [32], GDLoss: 0.0173 MSELoss: 0.0081 Total: 0.0253 \n",
            "Epoch [33], GDLoss: 0.0170 MSELoss: 0.0079 Total: 0.0249 \n",
            "Epoch [34], GDLoss: 0.0171 MSELoss: 0.0080 Total: 0.0250 \n",
            "Epoch [35], GDLoss: 0.0173 MSELoss: 0.0081 Total: 0.0254 \n",
            "Epoch [36], GDLoss: 0.0170 MSELoss: 0.0079 Total: 0.0248 \n",
            "Epoch [37], GDLoss: 0.0172 MSELoss: 0.0080 Total: 0.0251 \n",
            "Epoch [38], GDLoss: 0.0169 MSELoss: 0.0078 Total: 0.0247 \n",
            "Epoch [39], GDLoss: 0.0171 MSELoss: 0.0079 Total: 0.0250 \n",
            "Epoch [40], GDLoss: 0.0172 MSELoss: 0.0079 Total: 0.0251 \n",
            "Epoch [41], GDLoss: 0.0170 MSELoss: 0.0077 Total: 0.0247 \n",
            "Epoch [42], GDLoss: 0.0168 MSELoss: 0.0077 Total: 0.0245 \n",
            "Epoch [43], GDLoss: 0.0168 MSELoss: 0.0076 Total: 0.0244 \n",
            "Epoch [44], GDLoss: 0.0167 MSELoss: 0.0075 Total: 0.0242 \n",
            "Epoch [45], GDLoss: 0.0170 MSELoss: 0.0077 Total: 0.0247 \n",
            "Epoch [46], GDLoss: 0.0165 MSELoss: 0.0074 Total: 0.0239 \n",
            "Epoch [47], GDLoss: 0.0163 MSELoss: 0.0072 Total: 0.0235 \n",
            "Epoch [48], GDLoss: 0.0166 MSELoss: 0.0073 Total: 0.0239 \n",
            "Epoch [49], GDLoss: 0.0165 MSELoss: 0.0073 Total: 0.0238 \n",
            "Epoch [50], GDLoss: 0.0166 MSELoss: 0.0073 Total: 0.0239 \n",
            "Epoch [51], GDLoss: 0.0164 MSELoss: 0.0072 Total: 0.0236 \n",
            "Epoch [52], GDLoss: 0.0159 MSELoss: 0.0068 Total: 0.0227 \n",
            "Epoch [53], GDLoss: 0.0162 MSELoss: 0.0070 Total: 0.0232 \n",
            "Epoch [54], GDLoss: 0.0163 MSELoss: 0.0071 Total: 0.0234 \n",
            "Epoch [55], GDLoss: 0.0164 MSELoss: 0.0070 Total: 0.0235 \n",
            "Epoch [56], GDLoss: 0.0155 MSELoss: 0.0066 Total: 0.0221 \n",
            "Epoch [57], GDLoss: 0.0156 MSELoss: 0.0066 Total: 0.0222 \n",
            "Epoch [58], GDLoss: 0.0153 MSELoss: 0.0064 Total: 0.0217 \n",
            "Epoch [59], GDLoss: 0.0151 MSELoss: 0.0062 Total: 0.0213 \n",
            "Epoch [60], GDLoss: 0.0149 MSELoss: 0.0061 Total: 0.0211 \n",
            "Epoch [61], GDLoss: 0.0142 MSELoss: 0.0057 Total: 0.0199 \n",
            "Epoch [62], GDLoss: 0.0143 MSELoss: 0.0057 Total: 0.0200 \n",
            "Epoch [63], GDLoss: 0.0132 MSELoss: 0.0052 Total: 0.0184 \n",
            "Epoch [64], GDLoss: 0.0122 MSELoss: 0.0047 Total: 0.0168 \n",
            "Epoch [65], GDLoss: 0.0122 MSELoss: 0.0047 Total: 0.0170 \n",
            "Epoch [66], GDLoss: 0.0119 MSELoss: 0.0047 Total: 0.0166 \n",
            "Epoch [67], GDLoss: 0.0119 MSELoss: 0.0047 Total: 0.0166 \n",
            "Epoch [68], GDLoss: 0.0115 MSELoss: 0.0045 Total: 0.0160 \n",
            "Epoch [69], GDLoss: 0.0108 MSELoss: 0.0042 Total: 0.0149 \n",
            "Epoch [70], GDLoss: 0.0105 MSELoss: 0.0041 Total: 0.0146 \n",
            "Epoch [71], GDLoss: 0.0109 MSELoss: 0.0044 Total: 0.0153 \n",
            "Epoch [72], GDLoss: 0.0107 MSELoss: 0.0042 Total: 0.0148 \n",
            "Epoch [73], GDLoss: 0.0100 MSELoss: 0.0038 Total: 0.0138 \n",
            "Epoch [74], GDLoss: 0.0102 MSELoss: 0.0040 Total: 0.0142 \n",
            "Epoch [75], GDLoss: 0.0101 MSELoss: 0.0039 Total: 0.0140 \n",
            "Epoch [76], GDLoss: 0.0105 MSELoss: 0.0042 Total: 0.0147 \n",
            "Epoch [77], GDLoss: 0.0097 MSELoss: 0.0038 Total: 0.0134 \n",
            "Epoch [78], GDLoss: 0.0101 MSELoss: 0.0040 Total: 0.0141 \n",
            "Epoch [79], GDLoss: 0.0099 MSELoss: 0.0039 Total: 0.0138 \n",
            "Epoch [80], GDLoss: 0.0099 MSELoss: 0.0039 Total: 0.0138 \n",
            "Epoch [81], GDLoss: 0.0098 MSELoss: 0.0039 Total: 0.0137 \n",
            "Epoch [82], GDLoss: 0.0094 MSELoss: 0.0036 Total: 0.0130 \n",
            "Epoch [83], GDLoss: 0.0092 MSELoss: 0.0035 Total: 0.0127 \n",
            "Epoch [84], GDLoss: 0.0089 MSELoss: 0.0034 Total: 0.0124 \n",
            "Epoch [85], GDLoss: 0.0088 MSELoss: 0.0034 Total: 0.0122 \n",
            "Epoch [86], GDLoss: 0.0090 MSELoss: 0.0034 Total: 0.0124 \n",
            "Epoch [87], GDLoss: 0.0089 MSELoss: 0.0035 Total: 0.0124 \n",
            "Epoch [88], GDLoss: 0.0089 MSELoss: 0.0034 Total: 0.0123 \n",
            "Epoch [89], GDLoss: 0.0086 MSELoss: 0.0033 Total: 0.0119 \n",
            "Epoch [90], GDLoss: 0.0089 MSELoss: 0.0034 Total: 0.0123 \n",
            "Epoch [91], GDLoss: 0.0090 MSELoss: 0.0035 Total: 0.0126 \n",
            "Epoch [92], GDLoss: 0.0088 MSELoss: 0.0034 Total: 0.0122 \n",
            "Epoch [93], GDLoss: 0.0083 MSELoss: 0.0032 Total: 0.0115 \n",
            "Epoch [94], GDLoss: 0.0084 MSELoss: 0.0032 Total: 0.0117 \n",
            "Epoch [95], GDLoss: 0.0090 MSELoss: 0.0035 Total: 0.0126 \n",
            "Epoch [96], GDLoss: 0.0085 MSELoss: 0.0032 Total: 0.0116 \n",
            "Epoch [97], GDLoss: 0.0085 MSELoss: 0.0032 Total: 0.0118 \n",
            "Epoch [98], GDLoss: 0.0083 MSELoss: 0.0032 Total: 0.0115 \n",
            "Epoch [99], GDLoss: 0.0078 MSELoss: 0.0029 Total: 0.0107 \n",
            "Epoch [100], GDLoss: 0.0099 MSELoss: 0.0040 Total: 0.0138 \n",
            "Epoch [101], GDLoss: 0.0084 MSELoss: 0.0032 Total: 0.0116 \n",
            "Epoch [102], GDLoss: 0.0091 MSELoss: 0.0036 Total: 0.0128 \n",
            "Epoch [103], GDLoss: 0.0077 MSELoss: 0.0029 Total: 0.0106 \n",
            "Epoch [104], GDLoss: 0.0088 MSELoss: 0.0035 Total: 0.0122 \n",
            "Epoch [105], GDLoss: 0.0082 MSELoss: 0.0032 Total: 0.0113 \n",
            "Epoch [106], GDLoss: 0.0081 MSELoss: 0.0031 Total: 0.0113 \n",
            "Epoch [107], GDLoss: 0.0090 MSELoss: 0.0036 Total: 0.0126 \n",
            "Epoch [108], GDLoss: 0.0081 MSELoss: 0.0031 Total: 0.0112 \n",
            "Epoch [109], GDLoss: 0.0081 MSELoss: 0.0031 Total: 0.0112 \n",
            "Epoch [110], GDLoss: 0.0079 MSELoss: 0.0030 Total: 0.0109 \n",
            "Epoch [111], GDLoss: 0.0081 MSELoss: 0.0031 Total: 0.0112 \n",
            "Epoch [112], GDLoss: 0.0083 MSELoss: 0.0033 Total: 0.0116 \n",
            "Epoch [113], GDLoss: 0.0083 MSELoss: 0.0032 Total: 0.0116 \n",
            "Epoch [114], GDLoss: 0.0078 MSELoss: 0.0029 Total: 0.0107 \n",
            "Epoch [115], GDLoss: 0.0082 MSELoss: 0.0032 Total: 0.0114 \n",
            "Epoch [116], GDLoss: 0.0081 MSELoss: 0.0031 Total: 0.0112 \n",
            "Epoch [117], GDLoss: 0.0084 MSELoss: 0.0033 Total: 0.0117 \n",
            "Epoch [118], GDLoss: 0.0080 MSELoss: 0.0031 Total: 0.0111 \n",
            "Epoch [119], GDLoss: 0.0075 MSELoss: 0.0028 Total: 0.0103 \n",
            "Epoch [120], GDLoss: 0.0077 MSELoss: 0.0029 Total: 0.0106 \n",
            "Epoch [121], GDLoss: 0.0077 MSELoss: 0.0029 Total: 0.0106 \n",
            "Epoch [122], GDLoss: 0.0079 MSELoss: 0.0031 Total: 0.0111 \n",
            "Epoch [123], GDLoss: 0.0079 MSELoss: 0.0030 Total: 0.0109 \n",
            "Epoch [124], GDLoss: 0.0092 MSELoss: 0.0037 Total: 0.0129 \n",
            "Epoch [125], GDLoss: 0.0077 MSELoss: 0.0030 Total: 0.0107 \n",
            "Epoch [126], GDLoss: 0.0078 MSELoss: 0.0029 Total: 0.0107 \n",
            "Epoch [127], GDLoss: 0.0075 MSELoss: 0.0029 Total: 0.0104 \n",
            "Epoch [128], GDLoss: 0.0076 MSELoss: 0.0030 Total: 0.0106 \n",
            "Epoch [129], GDLoss: 0.0076 MSELoss: 0.0029 Total: 0.0105 \n",
            "Epoch [130], GDLoss: 0.0075 MSELoss: 0.0028 Total: 0.0103 \n",
            "Epoch [131], GDLoss: 0.0074 MSELoss: 0.0028 Total: 0.0102 \n",
            "Epoch [132], GDLoss: 0.0074 MSELoss: 0.0028 Total: 0.0102 \n",
            "Epoch [133], GDLoss: 0.0076 MSELoss: 0.0029 Total: 0.0105 \n",
            "Epoch [134], GDLoss: 0.0074 MSELoss: 0.0028 Total: 0.0102 \n",
            "Epoch [135], GDLoss: 0.0077 MSELoss: 0.0028 Total: 0.0105 \n",
            "Epoch [136], GDLoss: 0.0074 MSELoss: 0.0028 Total: 0.0102 \n",
            "Epoch [137], GDLoss: 0.0079 MSELoss: 0.0031 Total: 0.0110 \n",
            "Epoch [138], GDLoss: 0.0074 MSELoss: 0.0029 Total: 0.0103 \n",
            "Epoch [139], GDLoss: 0.0074 MSELoss: 0.0028 Total: 0.0102 \n",
            "Epoch [140], GDLoss: 0.0074 MSELoss: 0.0028 Total: 0.0102 \n",
            "Epoch [141], GDLoss: 0.0075 MSELoss: 0.0029 Total: 0.0104 \n",
            "Epoch [142], GDLoss: 0.0075 MSELoss: 0.0028 Total: 0.0103 \n",
            "Epoch [143], GDLoss: 0.0070 MSELoss: 0.0026 Total: 0.0096 \n",
            "Epoch [144], GDLoss: 0.0073 MSELoss: 0.0028 Total: 0.0101 \n",
            "Epoch [145], GDLoss: 0.0070 MSELoss: 0.0026 Total: 0.0096 \n",
            "Epoch [146], GDLoss: 0.0073 MSELoss: 0.0027 Total: 0.0100 \n",
            "Epoch [147], GDLoss: 0.0075 MSELoss: 0.0029 Total: 0.0105 \n",
            "Epoch [148], GDLoss: 0.0070 MSELoss: 0.0026 Total: 0.0096 \n",
            "Epoch [149], GDLoss: 0.0073 MSELoss: 0.0027 Total: 0.0100 \n",
            "Epoch [150], GDLoss: 0.0071 MSELoss: 0.0027 Total: 0.0098 \n",
            "Epoch [151], GDLoss: 0.0076 MSELoss: 0.0030 Total: 0.0106 \n",
            "Epoch [152], GDLoss: 0.0076 MSELoss: 0.0030 Total: 0.0106 \n",
            "Epoch [153], GDLoss: 0.0072 MSELoss: 0.0028 Total: 0.0100 \n",
            "Epoch [154], GDLoss: 0.0078 MSELoss: 0.0031 Total: 0.0109 \n",
            "Epoch [155], GDLoss: 0.0077 MSELoss: 0.0030 Total: 0.0107 \n",
            "Epoch [156], GDLoss: 0.0069 MSELoss: 0.0026 Total: 0.0095 \n",
            "Epoch [157], GDLoss: 0.0077 MSELoss: 0.0030 Total: 0.0107 \n",
            "Epoch [158], GDLoss: 0.0079 MSELoss: 0.0030 Total: 0.0110 \n",
            "Epoch [159], GDLoss: 0.0069 MSELoss: 0.0026 Total: 0.0095 \n",
            "Epoch [160], GDLoss: 0.0069 MSELoss: 0.0026 Total: 0.0095 \n",
            "Epoch [161], GDLoss: 0.0072 MSELoss: 0.0028 Total: 0.0100 \n",
            "Epoch [162], GDLoss: 0.0071 MSELoss: 0.0027 Total: 0.0098 \n",
            "Epoch [163], GDLoss: 0.0075 MSELoss: 0.0029 Total: 0.0104 \n",
            "Epoch [164], GDLoss: 0.0072 MSELoss: 0.0028 Total: 0.0100 \n",
            "Epoch [165], GDLoss: 0.0072 MSELoss: 0.0028 Total: 0.0100 \n",
            "Epoch [166], GDLoss: 0.0076 MSELoss: 0.0029 Total: 0.0105 \n",
            "Epoch [167], GDLoss: 0.0073 MSELoss: 0.0028 Total: 0.0101 \n",
            "Epoch [168], GDLoss: 0.0068 MSELoss: 0.0026 Total: 0.0093 \n",
            "Epoch [169], GDLoss: 0.0072 MSELoss: 0.0027 Total: 0.0099 \n",
            "Epoch [170], GDLoss: 0.0072 MSELoss: 0.0027 Total: 0.0099 \n",
            "Epoch [171], GDLoss: 0.0078 MSELoss: 0.0031 Total: 0.0109 \n",
            "Epoch [172], GDLoss: 0.0071 MSELoss: 0.0027 Total: 0.0098 \n",
            "Epoch [173], GDLoss: 0.0069 MSELoss: 0.0026 Total: 0.0095 \n",
            "Epoch [174], GDLoss: 0.0079 MSELoss: 0.0031 Total: 0.0110 \n",
            "Epoch [175], GDLoss: 0.0070 MSELoss: 0.0027 Total: 0.0097 \n",
            "Epoch [176], GDLoss: 0.0072 MSELoss: 0.0028 Total: 0.0100 \n",
            "Epoch [177], GDLoss: 0.0074 MSELoss: 0.0028 Total: 0.0103 \n",
            "Epoch [178], GDLoss: 0.0069 MSELoss: 0.0026 Total: 0.0095 \n",
            "Epoch [179], GDLoss: 0.0077 MSELoss: 0.0030 Total: 0.0107 \n",
            "Epoch [180], GDLoss: 0.0068 MSELoss: 0.0026 Total: 0.0094 \n",
            "Epoch [181], GDLoss: 0.0066 MSELoss: 0.0025 Total: 0.0091 \n",
            "Epoch [182], GDLoss: 0.0072 MSELoss: 0.0028 Total: 0.0099 \n",
            "Epoch [183], GDLoss: 0.0070 MSELoss: 0.0027 Total: 0.0096 \n",
            "Epoch [184], GDLoss: 0.0067 MSELoss: 0.0026 Total: 0.0093 \n",
            "Epoch [185], GDLoss: 0.0068 MSELoss: 0.0026 Total: 0.0094 \n",
            "Epoch [186], GDLoss: 0.0067 MSELoss: 0.0025 Total: 0.0093 \n",
            "Epoch [187], GDLoss: 0.0072 MSELoss: 0.0028 Total: 0.0099 \n",
            "Epoch [188], GDLoss: 0.0072 MSELoss: 0.0028 Total: 0.0100 \n",
            "Epoch [189], GDLoss: 0.0066 MSELoss: 0.0025 Total: 0.0090 \n",
            "Epoch [190], GDLoss: 0.0067 MSELoss: 0.0025 Total: 0.0093 \n",
            "Epoch [191], GDLoss: 0.0075 MSELoss: 0.0029 Total: 0.0104 \n",
            "Epoch [192], GDLoss: 0.0067 MSELoss: 0.0026 Total: 0.0093 \n",
            "Epoch [193], GDLoss: 0.0068 MSELoss: 0.0026 Total: 0.0094 \n",
            "Epoch [194], GDLoss: 0.0066 MSELoss: 0.0025 Total: 0.0091 \n",
            "Epoch [195], GDLoss: 0.0066 MSELoss: 0.0025 Total: 0.0092 \n",
            "Epoch [196], GDLoss: 0.0067 MSELoss: 0.0026 Total: 0.0092 \n",
            "Epoch [197], GDLoss: 0.0071 MSELoss: 0.0028 Total: 0.0099 \n",
            "Epoch [198], GDLoss: 0.0075 MSELoss: 0.0030 Total: 0.0105 \n",
            "Epoch [199], GDLoss: 0.0068 MSELoss: 0.0026 Total: 0.0094 \n",
            "Epoch [200], GDLoss: 0.0066 MSELoss: 0.0025 Total: 0.0092 \n",
            "Epoch [201], GDLoss: 0.0067 MSELoss: 0.0025 Total: 0.0092 \n",
            "Epoch [202], GDLoss: 0.0069 MSELoss: 0.0027 Total: 0.0096 \n",
            "Epoch [203], GDLoss: 0.0069 MSELoss: 0.0027 Total: 0.0096 \n",
            "Epoch [204], GDLoss: 0.0069 MSELoss: 0.0027 Total: 0.0095 \n",
            "Epoch [205], GDLoss: 0.0069 MSELoss: 0.0026 Total: 0.0096 \n",
            "Epoch [206], GDLoss: 0.0065 MSELoss: 0.0024 Total: 0.0089 \n",
            "Epoch [207], GDLoss: 0.0065 MSELoss: 0.0025 Total: 0.0090 \n",
            "Epoch [208], GDLoss: 0.0064 MSELoss: 0.0024 Total: 0.0088 \n",
            "Epoch [209], GDLoss: 0.0068 MSELoss: 0.0026 Total: 0.0095 \n",
            "Epoch [210], GDLoss: 0.0071 MSELoss: 0.0028 Total: 0.0099 \n",
            "Epoch [211], GDLoss: 0.0070 MSELoss: 0.0027 Total: 0.0097 \n",
            "Epoch [212], GDLoss: 0.0067 MSELoss: 0.0026 Total: 0.0093 \n",
            "Epoch [213], GDLoss: 0.0066 MSELoss: 0.0025 Total: 0.0091 \n",
            "Epoch [214], GDLoss: 0.0066 MSELoss: 0.0025 Total: 0.0091 \n",
            "Epoch [215], GDLoss: 0.0066 MSELoss: 0.0025 Total: 0.0091 \n",
            "Epoch [216], GDLoss: 0.0067 MSELoss: 0.0026 Total: 0.0093 \n",
            "Epoch [217], GDLoss: 0.0065 MSELoss: 0.0025 Total: 0.0090 \n",
            "Epoch [218], GDLoss: 0.0066 MSELoss: 0.0025 Total: 0.0091 \n",
            "Epoch [219], GDLoss: 0.0068 MSELoss: 0.0026 Total: 0.0095 \n",
            "Epoch [220], GDLoss: 0.0070 MSELoss: 0.0027 Total: 0.0097 \n",
            "Epoch [221], GDLoss: 0.0068 MSELoss: 0.0026 Total: 0.0094 \n",
            "Epoch [222], GDLoss: 0.0063 MSELoss: 0.0024 Total: 0.0086 \n",
            "Epoch [223], GDLoss: 0.0068 MSELoss: 0.0026 Total: 0.0094 \n",
            "Epoch [224], GDLoss: 0.0065 MSELoss: 0.0024 Total: 0.0089 \n",
            "Epoch [225], GDLoss: 0.0066 MSELoss: 0.0026 Total: 0.0091 \n",
            "Epoch [226], GDLoss: 0.0066 MSELoss: 0.0025 Total: 0.0091 \n",
            "Epoch [227], GDLoss: 0.0064 MSELoss: 0.0024 Total: 0.0088 \n",
            "Epoch [228], GDLoss: 0.0066 MSELoss: 0.0025 Total: 0.0092 \n",
            "Epoch [229], GDLoss: 0.0065 MSELoss: 0.0025 Total: 0.0090 \n",
            "Epoch [230], GDLoss: 0.0065 MSELoss: 0.0025 Total: 0.0090 \n",
            "Epoch [231], GDLoss: 0.0064 MSELoss: 0.0024 Total: 0.0088 \n",
            "Epoch [232], GDLoss: 0.0065 MSELoss: 0.0025 Total: 0.0090 \n",
            "Epoch [233], GDLoss: 0.0065 MSELoss: 0.0025 Total: 0.0090 \n",
            "Epoch [234], GDLoss: 0.0070 MSELoss: 0.0027 Total: 0.0097 \n",
            "Epoch [235], GDLoss: 0.0063 MSELoss: 0.0024 Total: 0.0088 \n",
            "Epoch [236], GDLoss: 0.0066 MSELoss: 0.0025 Total: 0.0091 \n",
            "Epoch [237], GDLoss: 0.0065 MSELoss: 0.0025 Total: 0.0090 \n",
            "Epoch [238], GDLoss: 0.0065 MSELoss: 0.0025 Total: 0.0089 \n",
            "Epoch [239], GDLoss: 0.0067 MSELoss: 0.0026 Total: 0.0093 \n",
            "Epoch [240], GDLoss: 0.0066 MSELoss: 0.0025 Total: 0.0091 \n",
            "Epoch [241], GDLoss: 0.0069 MSELoss: 0.0027 Total: 0.0096 \n",
            "Epoch [242], GDLoss: 0.0065 MSELoss: 0.0025 Total: 0.0090 \n",
            "Epoch [243], GDLoss: 0.0064 MSELoss: 0.0025 Total: 0.0089 \n",
            "Epoch [244], GDLoss: 0.0068 MSELoss: 0.0026 Total: 0.0094 \n",
            "Epoch [245], GDLoss: 0.0066 MSELoss: 0.0026 Total: 0.0092 \n",
            "Epoch [246], GDLoss: 0.0064 MSELoss: 0.0025 Total: 0.0089 \n",
            "Epoch [247], GDLoss: 0.0065 MSELoss: 0.0025 Total: 0.0089 \n",
            "Epoch [248], GDLoss: 0.0064 MSELoss: 0.0024 Total: 0.0088 \n",
            "Epoch [249], GDLoss: 0.0063 MSELoss: 0.0024 Total: 0.0086 \n",
            "Epoch [250], GDLoss: 0.0064 MSELoss: 0.0024 Total: 0.0088 \n",
            "Epoch [251], GDLoss: 0.0065 MSELoss: 0.0025 Total: 0.0090 \n",
            "Epoch [252], GDLoss: 0.0064 MSELoss: 0.0025 Total: 0.0090 \n",
            "Epoch [253], GDLoss: 0.0064 MSELoss: 0.0025 Total: 0.0089 \n",
            "Epoch [254], GDLoss: 0.0072 MSELoss: 0.0028 Total: 0.0100 \n",
            "Epoch [255], GDLoss: 0.0064 MSELoss: 0.0025 Total: 0.0089 \n",
            "Epoch [256], GDLoss: 0.0063 MSELoss: 0.0024 Total: 0.0087 \n",
            "Epoch [257], GDLoss: 0.0064 MSELoss: 0.0025 Total: 0.0089 \n",
            "Epoch [258], GDLoss: 0.0063 MSELoss: 0.0024 Total: 0.0086 \n",
            "Epoch [259], GDLoss: 0.0062 MSELoss: 0.0024 Total: 0.0086 \n",
            "Epoch [260], GDLoss: 0.0063 MSELoss: 0.0024 Total: 0.0087 \n",
            "Epoch [261], GDLoss: 0.0065 MSELoss: 0.0025 Total: 0.0090 \n",
            "Epoch [262], GDLoss: 0.0069 MSELoss: 0.0027 Total: 0.0096 \n",
            "Epoch [263], GDLoss: 0.0062 MSELoss: 0.0023 Total: 0.0085 \n",
            "Epoch [264], GDLoss: 0.0063 MSELoss: 0.0025 Total: 0.0088 \n",
            "Epoch [265], GDLoss: 0.0066 MSELoss: 0.0025 Total: 0.0091 \n",
            "Epoch [266], GDLoss: 0.0063 MSELoss: 0.0024 Total: 0.0087 \n",
            "Epoch [267], GDLoss: 0.0063 MSELoss: 0.0024 Total: 0.0087 \n",
            "Epoch [268], GDLoss: 0.0064 MSELoss: 0.0025 Total: 0.0089 \n",
            "Epoch [269], GDLoss: 0.0066 MSELoss: 0.0026 Total: 0.0091 \n",
            "Epoch [270], GDLoss: 0.0062 MSELoss: 0.0023 Total: 0.0085 \n",
            "Epoch [271], GDLoss: 0.0063 MSELoss: 0.0024 Total: 0.0087 \n",
            "Epoch [272], GDLoss: 0.0064 MSELoss: 0.0024 Total: 0.0088 \n",
            "Epoch [273], GDLoss: 0.0068 MSELoss: 0.0027 Total: 0.0094 \n",
            "Epoch [274], GDLoss: 0.0064 MSELoss: 0.0025 Total: 0.0090 \n",
            "Epoch [275], GDLoss: 0.0064 MSELoss: 0.0025 Total: 0.0089 \n",
            "Epoch [276], GDLoss: 0.0061 MSELoss: 0.0023 Total: 0.0084 \n",
            "Epoch [277], GDLoss: 0.0063 MSELoss: 0.0025 Total: 0.0088 \n",
            "Epoch [278], GDLoss: 0.0061 MSELoss: 0.0023 Total: 0.0084 \n",
            "Epoch [279], GDLoss: 0.0062 MSELoss: 0.0024 Total: 0.0086 \n",
            "Epoch [280], GDLoss: 0.0062 MSELoss: 0.0024 Total: 0.0086 \n",
            "Epoch [281], GDLoss: 0.0067 MSELoss: 0.0026 Total: 0.0093 \n",
            "Epoch [282], GDLoss: 0.0064 MSELoss: 0.0025 Total: 0.0089 \n",
            "Epoch [283], GDLoss: 0.0063 MSELoss: 0.0025 Total: 0.0088 \n",
            "Epoch [284], GDLoss: 0.0061 MSELoss: 0.0023 Total: 0.0084 \n",
            "Epoch [285], GDLoss: 0.0065 MSELoss: 0.0025 Total: 0.0090 \n",
            "Epoch [286], GDLoss: 0.0062 MSELoss: 0.0024 Total: 0.0086 \n",
            "Epoch [287], GDLoss: 0.0063 MSELoss: 0.0024 Total: 0.0087 \n",
            "Epoch [288], GDLoss: 0.0063 MSELoss: 0.0024 Total: 0.0086 \n",
            "Epoch [289], GDLoss: 0.0063 MSELoss: 0.0024 Total: 0.0088 \n",
            "Epoch [290], GDLoss: 0.0065 MSELoss: 0.0026 Total: 0.0090 \n",
            "Epoch [291], GDLoss: 0.0066 MSELoss: 0.0026 Total: 0.0092 \n",
            "Epoch [292], GDLoss: 0.0063 MSELoss: 0.0025 Total: 0.0088 \n",
            "Epoch [293], GDLoss: 0.0062 MSELoss: 0.0024 Total: 0.0086 \n",
            "Epoch [294], GDLoss: 0.0062 MSELoss: 0.0024 Total: 0.0086 \n",
            "Epoch [295], GDLoss: 0.0065 MSELoss: 0.0025 Total: 0.0090 \n",
            "Epoch [296], GDLoss: 0.0062 MSELoss: 0.0024 Total: 0.0085 \n",
            "Epoch [297], GDLoss: 0.0067 MSELoss: 0.0026 Total: 0.0094 \n",
            "Epoch [298], GDLoss: 0.0062 MSELoss: 0.0024 Total: 0.0085 \n",
            "Epoch [299], GDLoss: 0.0064 MSELoss: 0.0025 Total: 0.0089 \n",
            "Epoch [300], GDLoss: 0.0062 MSELoss: 0.0025 Total: 0.0087 \n",
            "Epoch [301], GDLoss: 0.0065 MSELoss: 0.0025 Total: 0.0091 \n",
            "Epoch [302], GDLoss: 0.0064 MSELoss: 0.0025 Total: 0.0089 \n",
            "Epoch [303], GDLoss: 0.0063 MSELoss: 0.0024 Total: 0.0087 \n",
            "Epoch [304], GDLoss: 0.0060 MSELoss: 0.0023 Total: 0.0083 \n",
            "Epoch [305], GDLoss: 0.0062 MSELoss: 0.0024 Total: 0.0086 \n",
            "Epoch [306], GDLoss: 0.0065 MSELoss: 0.0025 Total: 0.0090 \n",
            "Epoch [307], GDLoss: 0.0061 MSELoss: 0.0023 Total: 0.0084 \n",
            "Epoch [308], GDLoss: 0.0065 MSELoss: 0.0025 Total: 0.0091 \n",
            "Epoch [309], GDLoss: 0.0061 MSELoss: 0.0023 Total: 0.0084 \n",
            "Epoch [310], GDLoss: 0.0062 MSELoss: 0.0024 Total: 0.0086 \n",
            "Epoch [311], GDLoss: 0.0062 MSELoss: 0.0024 Total: 0.0086 \n",
            "Epoch [312], GDLoss: 0.0063 MSELoss: 0.0024 Total: 0.0087 \n",
            "Epoch [313], GDLoss: 0.0061 MSELoss: 0.0024 Total: 0.0085 \n",
            "Epoch [314], GDLoss: 0.0060 MSELoss: 0.0023 Total: 0.0083 \n",
            "Epoch [315], GDLoss: 0.0060 MSELoss: 0.0023 Total: 0.0083 \n",
            "Epoch [316], GDLoss: 0.0061 MSELoss: 0.0024 Total: 0.0085 \n",
            "Epoch [317], GDLoss: 0.0061 MSELoss: 0.0023 Total: 0.0085 \n",
            "Epoch [318], GDLoss: 0.0059 MSELoss: 0.0023 Total: 0.0082 \n",
            "Epoch [319], GDLoss: 0.0065 MSELoss: 0.0025 Total: 0.0090 \n",
            "Epoch [320], GDLoss: 0.0063 MSELoss: 0.0024 Total: 0.0087 \n",
            "Epoch [321], GDLoss: 0.0063 MSELoss: 0.0024 Total: 0.0088 \n",
            "Epoch [322], GDLoss: 0.0066 MSELoss: 0.0025 Total: 0.0091 \n",
            "Epoch [323], GDLoss: 0.0061 MSELoss: 0.0024 Total: 0.0085 \n",
            "Epoch [324], GDLoss: 0.0065 MSELoss: 0.0026 Total: 0.0091 \n",
            "Epoch [325], GDLoss: 0.0062 MSELoss: 0.0024 Total: 0.0086 \n",
            "Epoch [326], GDLoss: 0.0061 MSELoss: 0.0024 Total: 0.0085 \n",
            "Epoch [327], GDLoss: 0.0061 MSELoss: 0.0023 Total: 0.0084 \n",
            "Epoch [328], GDLoss: 0.0061 MSELoss: 0.0024 Total: 0.0085 \n",
            "Epoch [329], GDLoss: 0.0060 MSELoss: 0.0023 Total: 0.0084 \n",
            "Epoch [330], GDLoss: 0.0064 MSELoss: 0.0025 Total: 0.0089 \n",
            "Epoch [331], GDLoss: 0.0061 MSELoss: 0.0024 Total: 0.0085 \n",
            "Epoch [332], GDLoss: 0.0060 MSELoss: 0.0023 Total: 0.0083 \n",
            "Epoch [333], GDLoss: 0.0061 MSELoss: 0.0024 Total: 0.0085 \n",
            "Epoch [334], GDLoss: 0.0061 MSELoss: 0.0024 Total: 0.0085 \n",
            "Epoch [335], GDLoss: 0.0060 MSELoss: 0.0023 Total: 0.0083 \n",
            "Epoch [336], GDLoss: 0.0060 MSELoss: 0.0023 Total: 0.0084 \n",
            "Epoch [337], GDLoss: 0.0061 MSELoss: 0.0023 Total: 0.0084 \n",
            "Epoch [338], GDLoss: 0.0059 MSELoss: 0.0023 Total: 0.0082 \n",
            "Epoch [339], GDLoss: 0.0061 MSELoss: 0.0023 Total: 0.0084 \n",
            "Epoch [340], GDLoss: 0.0061 MSELoss: 0.0024 Total: 0.0085 \n",
            "Epoch [341], GDLoss: 0.0059 MSELoss: 0.0023 Total: 0.0082 \n",
            "Epoch [342], GDLoss: 0.0062 MSELoss: 0.0024 Total: 0.0087 \n",
            "Epoch [343], GDLoss: 0.0062 MSELoss: 0.0024 Total: 0.0086 \n",
            "Epoch [344], GDLoss: 0.0061 MSELoss: 0.0024 Total: 0.0084 \n",
            "Epoch [345], GDLoss: 0.0061 MSELoss: 0.0023 Total: 0.0084 \n",
            "Epoch [346], GDLoss: 0.0060 MSELoss: 0.0023 Total: 0.0083 \n",
            "Epoch [347], GDLoss: 0.0060 MSELoss: 0.0023 Total: 0.0083 \n",
            "Epoch [348], GDLoss: 0.0062 MSELoss: 0.0024 Total: 0.0086 \n",
            "Epoch [349], GDLoss: 0.0060 MSELoss: 0.0023 Total: 0.0083 \n",
            "Epoch [350], GDLoss: 0.0065 MSELoss: 0.0025 Total: 0.0090 \n",
            "Epoch [351], GDLoss: 0.0061 MSELoss: 0.0024 Total: 0.0084 \n",
            "Epoch [352], GDLoss: 0.0063 MSELoss: 0.0024 Total: 0.0088 \n",
            "Epoch [353], GDLoss: 0.0059 MSELoss: 0.0023 Total: 0.0082 \n",
            "Epoch [354], GDLoss: 0.0061 MSELoss: 0.0024 Total: 0.0085 \n",
            "Epoch [355], GDLoss: 0.0064 MSELoss: 0.0026 Total: 0.0090 \n",
            "Epoch [356], GDLoss: 0.0058 MSELoss: 0.0022 Total: 0.0081 \n",
            "Epoch [357], GDLoss: 0.0060 MSELoss: 0.0023 Total: 0.0082 \n",
            "Epoch [358], GDLoss: 0.0058 MSELoss: 0.0022 Total: 0.0080 \n",
            "Epoch [359], GDLoss: 0.0060 MSELoss: 0.0023 Total: 0.0084 \n",
            "Epoch [360], GDLoss: 0.0063 MSELoss: 0.0025 Total: 0.0088 \n",
            "Epoch [361], GDLoss: 0.0064 MSELoss: 0.0025 Total: 0.0089 \n",
            "Epoch [362], GDLoss: 0.0059 MSELoss: 0.0022 Total: 0.0081 \n",
            "Epoch [363], GDLoss: 0.0062 MSELoss: 0.0024 Total: 0.0086 \n",
            "Epoch [364], GDLoss: 0.0059 MSELoss: 0.0022 Total: 0.0081 \n",
            "Epoch [365], GDLoss: 0.0059 MSELoss: 0.0023 Total: 0.0082 \n",
            "Epoch [366], GDLoss: 0.0061 MSELoss: 0.0024 Total: 0.0084 \n",
            "Epoch [367], GDLoss: 0.0063 MSELoss: 0.0024 Total: 0.0087 \n",
            "Epoch [368], GDLoss: 0.0057 MSELoss: 0.0022 Total: 0.0079 \n",
            "Epoch [369], GDLoss: 0.0058 MSELoss: 0.0022 Total: 0.0080 \n",
            "Epoch [370], GDLoss: 0.0059 MSELoss: 0.0023 Total: 0.0082 \n",
            "Epoch [371], GDLoss: 0.0065 MSELoss: 0.0025 Total: 0.0089 \n",
            "Epoch [372], GDLoss: 0.0060 MSELoss: 0.0023 Total: 0.0083 \n",
            "Epoch [373], GDLoss: 0.0059 MSELoss: 0.0023 Total: 0.0082 \n",
            "Epoch [374], GDLoss: 0.0062 MSELoss: 0.0024 Total: 0.0086 \n",
            "Epoch [375], GDLoss: 0.0063 MSELoss: 0.0024 Total: 0.0086 \n",
            "Epoch [376], GDLoss: 0.0062 MSELoss: 0.0025 Total: 0.0087 \n",
            "Epoch [377], GDLoss: 0.0059 MSELoss: 0.0023 Total: 0.0081 \n",
            "Epoch [378], GDLoss: 0.0059 MSELoss: 0.0023 Total: 0.0081 \n",
            "Epoch [379], GDLoss: 0.0059 MSELoss: 0.0023 Total: 0.0082 \n",
            "Epoch [380], GDLoss: 0.0059 MSELoss: 0.0023 Total: 0.0082 \n",
            "Epoch [381], GDLoss: 0.0060 MSELoss: 0.0023 Total: 0.0083 \n",
            "Epoch [382], GDLoss: 0.0059 MSELoss: 0.0022 Total: 0.0081 \n",
            "Epoch [383], GDLoss: 0.0058 MSELoss: 0.0022 Total: 0.0080 \n",
            "Epoch [384], GDLoss: 0.0057 MSELoss: 0.0022 Total: 0.0079 \n",
            "Epoch [385], GDLoss: 0.0057 MSELoss: 0.0022 Total: 0.0080 \n",
            "Epoch [386], GDLoss: 0.0059 MSELoss: 0.0023 Total: 0.0082 \n",
            "Epoch [387], GDLoss: 0.0061 MSELoss: 0.0024 Total: 0.0085 \n",
            "Epoch [388], GDLoss: 0.0057 MSELoss: 0.0022 Total: 0.0079 \n",
            "Epoch [389], GDLoss: 0.0058 MSELoss: 0.0023 Total: 0.0081 \n",
            "Epoch [390], GDLoss: 0.0058 MSELoss: 0.0022 Total: 0.0080 \n",
            "Epoch [391], GDLoss: 0.0065 MSELoss: 0.0026 Total: 0.0091 \n",
            "Epoch [392], GDLoss: 0.0061 MSELoss: 0.0024 Total: 0.0085 \n",
            "Epoch [393], GDLoss: 0.0064 MSELoss: 0.0024 Total: 0.0088 \n",
            "Epoch [394], GDLoss: 0.0063 MSELoss: 0.0025 Total: 0.0088 \n",
            "Epoch [395], GDLoss: 0.0056 MSELoss: 0.0021 Total: 0.0078 \n",
            "Epoch [396], GDLoss: 0.0058 MSELoss: 0.0023 Total: 0.0080 \n",
            "Epoch [397], GDLoss: 0.0059 MSELoss: 0.0023 Total: 0.0082 \n",
            "Epoch [398], GDLoss: 0.0058 MSELoss: 0.0023 Total: 0.0081 \n",
            "Epoch [399], GDLoss: 0.0058 MSELoss: 0.0022 Total: 0.0080 \n",
            "Epoch [400], GDLoss: 0.0060 MSELoss: 0.0023 Total: 0.0084 \n",
            "Epoch [401], GDLoss: 0.0060 MSELoss: 0.0023 Total: 0.0083 \n",
            "Epoch [402], GDLoss: 0.0058 MSELoss: 0.0023 Total: 0.0081 \n",
            "Epoch [403], GDLoss: 0.0057 MSELoss: 0.0022 Total: 0.0078 \n",
            "Epoch [404], GDLoss: 0.0057 MSELoss: 0.0021 Total: 0.0078 \n",
            "Epoch [405], GDLoss: 0.0058 MSELoss: 0.0022 Total: 0.0080 \n",
            "Epoch [406], GDLoss: 0.0060 MSELoss: 0.0023 Total: 0.0083 \n",
            "Epoch [407], GDLoss: 0.0056 MSELoss: 0.0022 Total: 0.0078 \n",
            "Epoch [408], GDLoss: 0.0057 MSELoss: 0.0022 Total: 0.0079 \n",
            "Epoch [409], GDLoss: 0.0056 MSELoss: 0.0021 Total: 0.0077 \n",
            "Epoch [410], GDLoss: 0.0059 MSELoss: 0.0023 Total: 0.0081 \n",
            "Epoch [411], GDLoss: 0.0070 MSELoss: 0.0027 Total: 0.0097 \n",
            "Epoch [412], GDLoss: 0.0065 MSELoss: 0.0025 Total: 0.0090 \n",
            "Epoch [413], GDLoss: 0.0061 MSELoss: 0.0023 Total: 0.0085 \n",
            "Epoch [414], GDLoss: 0.0057 MSELoss: 0.0022 Total: 0.0080 \n",
            "Epoch [415], GDLoss: 0.0058 MSELoss: 0.0022 Total: 0.0079 \n",
            "Epoch [416], GDLoss: 0.0058 MSELoss: 0.0022 Total: 0.0080 \n",
            "Epoch [417], GDLoss: 0.0061 MSELoss: 0.0023 Total: 0.0084 \n",
            "Epoch [418], GDLoss: 0.0071 MSELoss: 0.0027 Total: 0.0098 \n",
            "Epoch [419], GDLoss: 0.0056 MSELoss: 0.0021 Total: 0.0078 \n",
            "Epoch [420], GDLoss: 0.0056 MSELoss: 0.0022 Total: 0.0079 \n",
            "Epoch [421], GDLoss: 0.0055 MSELoss: 0.0021 Total: 0.0076 \n",
            "Epoch [422], GDLoss: 0.0057 MSELoss: 0.0022 Total: 0.0079 \n",
            "Epoch [423], GDLoss: 0.0056 MSELoss: 0.0021 Total: 0.0077 \n",
            "Epoch [424], GDLoss: 0.0054 MSELoss: 0.0021 Total: 0.0075 \n",
            "Epoch [425], GDLoss: 0.0056 MSELoss: 0.0021 Total: 0.0077 \n",
            "Epoch [426], GDLoss: 0.0060 MSELoss: 0.0023 Total: 0.0082 \n",
            "Epoch [427], GDLoss: 0.0058 MSELoss: 0.0023 Total: 0.0081 \n",
            "Epoch [428], GDLoss: 0.0055 MSELoss: 0.0021 Total: 0.0077 \n",
            "Epoch [429], GDLoss: 0.0060 MSELoss: 0.0023 Total: 0.0083 \n",
            "Epoch [430], GDLoss: 0.0059 MSELoss: 0.0023 Total: 0.0083 \n",
            "Epoch [431], GDLoss: 0.0055 MSELoss: 0.0021 Total: 0.0076 \n",
            "Epoch [432], GDLoss: 0.0055 MSELoss: 0.0021 Total: 0.0075 \n",
            "Epoch [433], GDLoss: 0.0056 MSELoss: 0.0022 Total: 0.0078 \n",
            "Epoch [434], GDLoss: 0.0058 MSELoss: 0.0022 Total: 0.0080 \n",
            "Epoch [435], GDLoss: 0.0059 MSELoss: 0.0022 Total: 0.0081 \n",
            "Epoch [436], GDLoss: 0.0057 MSELoss: 0.0022 Total: 0.0078 \n",
            "Epoch [437], GDLoss: 0.0056 MSELoss: 0.0021 Total: 0.0077 \n",
            "Epoch [438], GDLoss: 0.0095 MSELoss: 0.0037 Total: 0.0132 \n",
            "Epoch [439], GDLoss: 0.0055 MSELoss: 0.0021 Total: 0.0076 \n",
            "Epoch [440], GDLoss: 0.0061 MSELoss: 0.0024 Total: 0.0085 \n",
            "Epoch [441], GDLoss: 0.0057 MSELoss: 0.0022 Total: 0.0079 \n",
            "Epoch [442], GDLoss: 0.0054 MSELoss: 0.0021 Total: 0.0075 \n",
            "Epoch [443], GDLoss: 0.0055 MSELoss: 0.0021 Total: 0.0077 \n",
            "Epoch [444], GDLoss: 0.0053 MSELoss: 0.0020 Total: 0.0073 \n",
            "Epoch [445], GDLoss: 0.0078 MSELoss: 0.0030 Total: 0.0108 \n",
            "Epoch [446], GDLoss: 0.0061 MSELoss: 0.0023 Total: 0.0085 \n",
            "Epoch [447], GDLoss: 0.0053 MSELoss: 0.0020 Total: 0.0073 \n",
            "Epoch [448], GDLoss: 0.0056 MSELoss: 0.0021 Total: 0.0077 \n",
            "Epoch [449], GDLoss: 0.0069 MSELoss: 0.0026 Total: 0.0095 \n",
            "Epoch [450], GDLoss: 0.0061 MSELoss: 0.0023 Total: 0.0084 \n",
            "Epoch [451], GDLoss: 0.0054 MSELoss: 0.0020 Total: 0.0074 \n",
            "Epoch [452], GDLoss: 0.0054 MSELoss: 0.0020 Total: 0.0075 \n",
            "Epoch [453], GDLoss: 0.0058 MSELoss: 0.0022 Total: 0.0080 \n",
            "Epoch [454], GDLoss: 0.0053 MSELoss: 0.0020 Total: 0.0073 \n",
            "Epoch [455], GDLoss: 0.0055 MSELoss: 0.0021 Total: 0.0076 \n",
            "Epoch [456], GDLoss: 0.0054 MSELoss: 0.0020 Total: 0.0074 \n",
            "Epoch [457], GDLoss: 0.0054 MSELoss: 0.0021 Total: 0.0075 \n",
            "Epoch [458], GDLoss: 0.0057 MSELoss: 0.0022 Total: 0.0079 \n",
            "Epoch [459], GDLoss: 0.0054 MSELoss: 0.0020 Total: 0.0074 \n",
            "Epoch [460], GDLoss: 0.0057 MSELoss: 0.0022 Total: 0.0079 \n",
            "Epoch [461], GDLoss: 0.0055 MSELoss: 0.0021 Total: 0.0076 \n",
            "Epoch [462], GDLoss: 0.0059 MSELoss: 0.0022 Total: 0.0082 \n",
            "Epoch [463], GDLoss: 0.0052 MSELoss: 0.0019 Total: 0.0071 \n",
            "Epoch [464], GDLoss: 0.0054 MSELoss: 0.0020 Total: 0.0074 \n",
            "Epoch [465], GDLoss: 0.0052 MSELoss: 0.0020 Total: 0.0072 \n",
            "Epoch [466], GDLoss: 0.0053 MSELoss: 0.0020 Total: 0.0073 \n",
            "Epoch [467], GDLoss: 0.0059 MSELoss: 0.0022 Total: 0.0081 \n",
            "Epoch [468], GDLoss: 0.0053 MSELoss: 0.0020 Total: 0.0073 \n",
            "Epoch [469], GDLoss: 0.0053 MSELoss: 0.0020 Total: 0.0073 \n",
            "Epoch [470], GDLoss: 0.0052 MSELoss: 0.0019 Total: 0.0071 \n",
            "Epoch [471], GDLoss: 0.0052 MSELoss: 0.0020 Total: 0.0072 \n",
            "Epoch [472], GDLoss: 0.0054 MSELoss: 0.0020 Total: 0.0074 \n",
            "Epoch [473], GDLoss: 0.0053 MSELoss: 0.0020 Total: 0.0073 \n",
            "Epoch [474], GDLoss: 0.0053 MSELoss: 0.0020 Total: 0.0074 \n",
            "Epoch [475], GDLoss: 0.0052 MSELoss: 0.0020 Total: 0.0072 \n",
            "Epoch [476], GDLoss: 0.0053 MSELoss: 0.0020 Total: 0.0072 \n",
            "Epoch [477], GDLoss: 0.0053 MSELoss: 0.0020 Total: 0.0073 \n",
            "Epoch [478], GDLoss: 0.0053 MSELoss: 0.0020 Total: 0.0073 \n",
            "Epoch [479], GDLoss: 0.0052 MSELoss: 0.0019 Total: 0.0071 \n",
            "Epoch [480], GDLoss: 0.0053 MSELoss: 0.0020 Total: 0.0074 \n",
            "Epoch [481], GDLoss: 0.0053 MSELoss: 0.0020 Total: 0.0073 \n",
            "Epoch [482], GDLoss: 0.0053 MSELoss: 0.0020 Total: 0.0073 \n",
            "Epoch [483], GDLoss: 0.0054 MSELoss: 0.0021 Total: 0.0074 \n",
            "Epoch [484], GDLoss: 0.0053 MSELoss: 0.0020 Total: 0.0073 \n",
            "Epoch [485], GDLoss: 0.0052 MSELoss: 0.0020 Total: 0.0072 \n",
            "Epoch [486], GDLoss: 0.0053 MSELoss: 0.0020 Total: 0.0073 \n",
            "Epoch [487], GDLoss: 0.0051 MSELoss: 0.0019 Total: 0.0070 \n",
            "Epoch [488], GDLoss: 0.0054 MSELoss: 0.0020 Total: 0.0074 \n",
            "Epoch [489], GDLoss: 0.0053 MSELoss: 0.0020 Total: 0.0074 \n",
            "Epoch [490], GDLoss: 0.0053 MSELoss: 0.0020 Total: 0.0073 \n",
            "Epoch [491], GDLoss: 0.0050 MSELoss: 0.0019 Total: 0.0069 \n",
            "Epoch [492], GDLoss: 0.0053 MSELoss: 0.0020 Total: 0.0073 \n",
            "Epoch [493], GDLoss: 0.0051 MSELoss: 0.0019 Total: 0.0070 \n",
            "Epoch [494], GDLoss: 0.0052 MSELoss: 0.0019 Total: 0.0071 \n",
            "Epoch [495], GDLoss: 0.0052 MSELoss: 0.0020 Total: 0.0071 \n",
            "Epoch [496], GDLoss: 0.0055 MSELoss: 0.0021 Total: 0.0076 \n",
            "Epoch [497], GDLoss: 0.0051 MSELoss: 0.0019 Total: 0.0071 \n",
            "Epoch [498], GDLoss: 0.0051 MSELoss: 0.0019 Total: 0.0071 \n",
            "Epoch [499], GDLoss: 0.0053 MSELoss: 0.0020 Total: 0.0073 \n"
          ],
          "name": "stdout"
        }
      ]
    },
    {
      "cell_type": "code",
      "metadata": {
        "id": "svMqlxO81bQO",
        "outputId": "9bfba88e-5e6b-43d5-c604-80e7c8a8ee13",
        "colab": {
          "base_uri": "https://localhost:8080/",
          "height": 295
        }
      },
      "source": [
        "plot_history(history)"
      ],
      "execution_count": 14,
      "outputs": [
        {
          "output_type": "display_data",
          "data": {
            "image/png": "[encoded data removed]",
            "text/plain": [
              "<Figure size 432x288 with 1 Axes>"
            ]
          },
          "metadata": {
            "tags": [],
            "needs_background": "light"
          }
        }
      ]
    },
    {
      "cell_type": "markdown",
      "metadata": {
        "id": "K0SXjutg1lQP"
      },
      "source": [
        "## Testing"
      ]
    },
    {
      "cell_type": "code",
      "metadata": {
        "id": "5A6I3I0-1mR3"
      },
      "source": [
        "# LOAD MODEL\n",
        "ae=torch.load(\"best_ae.pth\",map_location=device)\n",
        "ae.eval();"
      ],
      "execution_count": 15,
      "outputs": []
    },
    {
      "cell_type": "markdown",
      "metadata": {
        "id": "ZceC1--x5cmP"
      },
      "source": [
        "### Data preparation"
      ]
    },
    {
      "cell_type": "code",
      "metadata": {
        "id": "qAlrwgQd2UxD"
      },
      "source": [
        "model=\"Bai\"\n",
        "test=get_test(\"data/testing/\"+model+\"/\")"
      ],
      "execution_count": 16,
      "outputs": []
    },
    {
      "cell_type": "code",
      "metadata": {
        "id": "4PcTdKFX5qla"
      },
      "source": [
        "images_test=np.array([img for _,img in test[\"ED\"]]+[img for _,img in test[\"ES\"]])\n",
        "blank=torch.zeros(images_test.shape[:1]+(len(np.unique(images_test)),)+images_test.shape[1:],dtype=int)\n",
        "images_test=blank.scatter_(1,torch.tensor(np.expand_dims(images_test,axis=1)),1)"
      ],
      "execution_count": 17,
      "outputs": []
    },
    {
      "cell_type": "code",
      "metadata": {
        "id": "K-ylt_NO5qld"
      },
      "source": [
        "BATCH_SIZE=8\n",
        "\n",
        "test_loader = torch.utils.data.DataLoader(\n",
        "    torch.utils.data.TensorDataset(images_test.float()),\n",
        "    batch_size=BATCH_SIZE, shuffle=False, num_workers=0\n",
        "    )"
      ],
      "execution_count": 18,
      "outputs": []
    },
    {
      "cell_type": "markdown",
      "metadata": {
        "id": "p_PCsQ1h6ICx"
      },
      "source": [
        "### Single patient"
      ]
    },
    {
      "cell_type": "code",
      "metadata": {
        "id": "J1znyLR1cbLD"
      },
      "source": [
        "patient=\"patient102\"\n",
        "\n",
        "if patient==\"empty\":\n",
        "  reference=np.zeros([1,4,256,256])\n",
        "  reference[:,0]=1\n",
        "else:\n",
        "  reference=images_test[np.array([p for p,_ in test[\"ED\"]]+[p for p,_ in test[\"ES\"]])==patient].numpy()"
      ],
      "execution_count": 19,
      "outputs": []
    },
    {
      "cell_type": "code",
      "metadata": {
        "id": "jaJjltVucaSv",
        "outputId": "f156dac2-5077-4549-ca36-dbf0c9adf556",
        "colab": {
          "base_uri": "https://localhost:8080/"
        }
      },
      "source": [
        "%time\n",
        "prediction=ae(torch.tensor(reference).float().to(device)).cpu().detach().numpy()"
      ],
      "execution_count": 20,
      "outputs": [
        {
          "output_type": "stream",
          "text": [
            "CPU times: user 4 µs, sys: 0 ns, total: 4 µs\n",
            "Wall time: 7.63 µs\n"
          ],
          "name": "stdout"
        }
      ]
    },
    {
      "cell_type": "code",
      "metadata": {
        "id": "o9pdqZIpeJJL"
      },
      "source": [
        "reference=np.argmax(reference,axis=1)\n",
        "prediction={\n",
        "    \"discrete\":np.argmax(prediction,axis=1),\n",
        "    \"continuous\":np.argmax(prediction,axis=1)+(1-np.max(prediction,axis=1))\n",
        "}"
      ],
      "execution_count": 21,
      "outputs": []
    },
    {
      "cell_type": "code",
      "metadata": {
        "id": "lgpo2DOmZd-U",
        "outputId": "6174d525-4d27-4b4b-e1ad-e2b38fcca65c",
        "colab": {
          "base_uri": "https://localhost:8080/",
          "height": 273
        }
      },
      "source": [
        "display_image(reference[2])"
      ],
      "execution_count": 22,
      "outputs": [
        {
          "output_type": "display_data",
          "data": {
            "image/png": "[encoded data removed]",
            "text/plain": [
              "<PIL.Image.Image image mode=L size=256x256 at 0x7F29F59A8AC8>"
            ]
          },
          "metadata": {
            "tags": []
          }
        }
      ]
    },
    {
      "cell_type": "code",
      "metadata": {
        "id": "9K-74gjg7gaD",
        "outputId": "5f94f57c-cb9b-48fb-a25a-7eb5606ab03c",
        "colab": {
          "base_uri": "https://localhost:8080/",
          "height": 273
        }
      },
      "source": [
        "display_image(prediction[\"discrete\"][2])"
      ],
      "execution_count": 23,
      "outputs": [
        {
          "output_type": "display_data",
          "data": {
            "image/png": "[encoded data removed]",
            "text/plain": [
              "<PIL.Image.Image image mode=L size=256x256 at 0x7F28460EEC88>"
            ]
          },
          "metadata": {
            "tags": []
          }
        }
      ]
    },
    {
      "cell_type": "code",
      "metadata": {
        "id": "SYqMG8Kqb5P5",
        "outputId": "fccf4d33-f0f3-48ac-805c-1a512ae26b70",
        "colab": {
          "base_uri": "https://localhost:8080/"
        }
      },
      "source": [
        "%time\n",
        "get_results(prediction[\"discrete\"],reference)"
      ],
      "execution_count": 24,
      "outputs": [
        {
          "output_type": "stream",
          "text": [
            "CPU times: user 4 µs, sys: 0 ns, total: 4 µs\n",
            "Wall time: 8.11 µs\n"
          ],
          "name": "stdout"
        },
        {
          "output_type": "execute_result",
          "data": {
            "text/plain": [
              "{'Dice': 1.1914343311399338,\n",
              " 'Dice_rint': 0.8837968728379687,\n",
              " 'HD_rint': 101.67595585978034,\n",
              " 'LV_Dice': 1.245235337474992,\n",
              " 'LV_Dice_rint': 0.7920433996383364,\n",
              " 'LV_HD_rint': 105.15702544290609,\n",
              " 'LV_SED': 18630,\n",
              " 'LV_SED_rint': 18630.0,\n",
              " 'LV_maxSED': 3717,\n",
              " 'LV_maxSED_rint': 3717.0,\n",
              " 'MYO_Dice': 0.99899954524784,\n",
              " 'MYO_Dice_rint': 0.7532057875608585,\n",
              " 'MYO_HD_rint': 101.67595585978034,\n",
              " 'MYO_SED': 14396,\n",
              " 'MYO_SED_rint': 14396.0,\n",
              " 'MYO_maxSED': 1944,\n",
              " 'MYO_maxSED_rint': 1944.0,\n",
              " 'RV_Dice': 0.8696326952922918,\n",
              " 'RV_Dice_rint': 0.8696326952922918,\n",
              " 'RV_HD_rint': 8.48528137423857,\n",
              " 'RV_SED': 1512,\n",
              " 'RV_SED_rint': 1512.0,\n",
              " 'RV_maxSED': 261,\n",
              " 'RV_maxSED_rint': 261.0,\n",
              " 'SED': 20038,\n",
              " 'SED_rint': 20038.0,\n",
              " 'maxSED': 4277,\n",
              " 'maxSED_rint': 4277.0}"
            ]
          },
          "metadata": {
            "tags": []
          },
          "execution_count": 24
        }
      ]
    },
    {
      "cell_type": "code",
      "metadata": {
        "id": "gFcG-gUhEYk5",
        "outputId": "97a14a3d-588f-4fa6-a65a-f4c7478c3afe",
        "colab": {
          "base_uri": "https://localhost:8080/",
          "height": 273
        }
      },
      "source": [
        "display_difference(prediction[\"continuous\"][2],reference[2])"
      ],
      "execution_count": 25,
      "outputs": [
        {
          "output_type": "display_data",
          "data": {
            "image/png": "[encoded data removed]",
            "text/plain": [
              "<PIL.Image.Image image mode=RGB size=256x256 at 0x7F28460FA5F8>"
            ]
          },
          "metadata": {
            "tags": []
          }
        }
      ]
    },
    {
      "cell_type": "markdown",
      "metadata": {
        "id": "jTKtXsYN_8GC"
      },
      "source": [
        "### All patients"
      ]
    },
    {
      "cell_type": "code",
      "metadata": {
        "id": "azPKTbiSIfWd"
      },
      "source": [
        "reference=np.array([img for _,img in test[\"ED\"]]+[img for _,img in test[\"ES\"]])"
      ],
      "execution_count": 26,
      "outputs": []
    },
    {
      "cell_type": "code",
      "metadata": {
        "id": "ncgTZoxh_9ms"
      },
      "source": [
        "prediction=np.array([])\n",
        "for [batch] in test_loader:\n",
        "  batch=batch.to(device)\n",
        "  reconstruction=ae(batch).cpu().detach().numpy()\n",
        "  if(len(prediction)==0):\n",
        "    prediction=reconstruction\n",
        "  else:\n",
        "    prediction=np.concatenate([prediction,reconstruction])"
      ],
      "execution_count": 27,
      "outputs": []
    },
    {
      "cell_type": "code",
      "metadata": {
        "id": "dyvQAYMtI5g1"
      },
      "source": [
        "prediction=np.argmax(prediction,axis=1)"
      ],
      "execution_count": 28,
      "outputs": []
    },
    {
      "cell_type": "code",
      "metadata": {
        "id": "FIckZG3bJIti"
      },
      "source": [
        "results={\"ED\":{},\"ES\":{}}\n",
        "for patient in np.unique([p for p,_ in test[\"ED\"]]+[p for p,_ in test[\"ES\"]]):\n",
        "  results[\"ED\"][patient]=get_results(prediction[:len(test[\"ED\"])][np.array([p for p,_ in test[\"ED\"]])==patient],reference[:len(test[\"ED\"])][np.array([p for p,_ in test[\"ED\"]])==patient])\n",
        "  results[\"ES\"][patient]=get_results(prediction[len(test[\"ED\"]):][np.array([p for p,_ in test[\"ES\"]])==patient],reference[len(test[\"ED\"]):][np.array([p for p,_ in test[\"ES\"]])==patient])"
      ],
      "execution_count": 29,
      "outputs": []
    },
    {
      "cell_type": "code",
      "metadata": {
        "id": "nxHNOEKMMHPO"
      },
      "source": [
        "np.save(model+'_AE_ED+ES',results)"
      ],
      "execution_count": 30,
      "outputs": []
    }
  ]
}